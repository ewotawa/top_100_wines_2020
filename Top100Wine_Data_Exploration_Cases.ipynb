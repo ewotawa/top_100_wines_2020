{
 "cells": [
  {
   "cell_type": "markdown",
   "metadata": {},
   "source": [
    "# Wine Case Analysis: *Wine Spectator*'s Top 100 Wines, 1988-2020\n",
    "List available online on *Wine Spectator*'s [Top 100 Lists web site](https://top100.winespectator.com/lists/)."
   ]
  },
  {
   "cell_type": "markdown",
   "metadata": {},
   "source": [
    "## File Setup"
   ]
  },
  {
   "cell_type": "code",
   "execution_count": 156,
   "metadata": {},
   "outputs": [],
   "source": [
    "# import and initialize main python libraries\n",
    "import numpy as np\n",
    "import pandas as pd\n",
    "import shapefile as shp\n",
    "import matplotlib.pyplot as plt\n",
    "import bar_chart_race as bcr\n",
    "import seaborn as sns\n",
    "\n",
    "# import libraries for file navigation\n",
    "import os\n",
    "import shutil\n",
    "import glob\n",
    "from pandas_ods_reader import read_ods\n",
    "\n",
    "# import other packages\n",
    "from scipy import stats\n",
    "from sklearn import linear_model\n",
    "\n",
    "# import geo packages\n",
    "import geopandas as gpd\n",
    "import descartes\n",
    "from shapely.geometry import Point, Polygon\n",
    "\n",
    "# import Geopy packages\n",
    "import geopy\n",
    "from geopy.geocoders import Nominatim"
   ]
  },
  {
   "cell_type": "code",
   "execution_count": 157,
   "metadata": {},
   "outputs": [],
   "source": [
    "# initialize vizualization set\n",
    "sns.set(style=\"whitegrid\", palette=\"colorblind\", color_codes=True)\n",
    "sns.mpl.rc(\"figure\", figsize=(10, 6))\n",
    "\n",
    "# Jupyter Notebook\n",
    "%matplotlib inline"
   ]
  },
  {
   "cell_type": "markdown",
   "metadata": {},
   "source": [
    "## Dataframe Exploration"
   ]
  },
  {
   "cell_type": "code",
   "execution_count": 158,
   "metadata": {},
   "outputs": [],
   "source": [
    "# Note: save CSV files in UTF-8 format to preserve special characters.\n",
    "df_Wine = pd.read_csv('./Wine_Hier00.csv')\n",
    "df_GeoCache = pd.read_csv('./GeoCache.csv')\n",
    "df_Flag = pd.read_csv('./emoji_list.csv')"
   ]
  },
  {
   "cell_type": "code",
   "execution_count": 159,
   "metadata": {},
   "outputs": [
    {
     "data": {
      "text/plain": [
       "(3304, 25)"
      ]
     },
     "execution_count": 159,
     "metadata": {},
     "output_type": "execute_result"
    }
   ],
   "source": [
    "df_Wine.shape"
   ]
  },
  {
   "cell_type": "code",
   "execution_count": 160,
   "metadata": {},
   "outputs": [
    {
     "data": {
      "text/plain": [
       "Review_Year           float64\n",
       "Rank                   object\n",
       "Vintage                object\n",
       "Score                 float64\n",
       "Price                  object\n",
       "Winemaker              object\n",
       "Wine                   object\n",
       "Wine_Style             object\n",
       "Grape_Blend            object\n",
       "Blend_List             object\n",
       "Geography              object\n",
       "Cases_Made            float64\n",
       "Cases_Imported        float64\n",
       "Reviewer               object\n",
       "Drink_now             float64\n",
       "Best_Drink_from       float64\n",
       "Best_Drink_Through    float64\n",
       "Review                 object\n",
       "Hierarchy              object\n",
       "Address                object\n",
       "loc                    object\n",
       "point                  object\n",
       "lat                   float64\n",
       "long                  float64\n",
       "altitude              float64\n",
       "dtype: object"
      ]
     },
     "execution_count": 160,
     "metadata": {},
     "output_type": "execute_result"
    }
   ],
   "source": [
    "df_Wine.dtypes"
   ]
  },
  {
   "cell_type": "code",
   "execution_count": 161,
   "metadata": {},
   "outputs": [],
   "source": [
    "# CSV of wines is retaining a blank row at the end of the dataset. Remove the last row to prevent data type errors.\n",
    "\n",
    "# number of rows to drop\n",
    "n = 1\n",
    "\n",
    "df_Wine.drop(df_Wine.tail(n).index, inplace = True)"
   ]
  },
  {
   "cell_type": "code",
   "execution_count": 162,
   "metadata": {},
   "outputs": [],
   "source": [
    "# Review_Year\n",
    "# Convert Review_Year from float to int\n",
    "df_Wine['Review_Year'] = df_Wine['Review_Year'].astype(int)"
   ]
  },
  {
   "cell_type": "code",
   "execution_count": 163,
   "metadata": {},
   "outputs": [
    {
     "data": {
      "text/plain": [
       "(1228, 8)"
      ]
     },
     "execution_count": 163,
     "metadata": {},
     "output_type": "execute_result"
    }
   ],
   "source": [
    "df_GeoCache.shape"
   ]
  },
  {
   "cell_type": "code",
   "execution_count": 164,
   "metadata": {},
   "outputs": [
    {
     "data": {
      "text/plain": [
       "(19, 3)"
      ]
     },
     "execution_count": 164,
     "metadata": {},
     "output_type": "execute_result"
    }
   ],
   "source": [
    "df_Flag.shape"
   ]
  },
  {
   "cell_type": "code",
   "execution_count": 165,
   "metadata": {},
   "outputs": [
    {
     "data": {
      "text/html": [
       "<div>\n",
       "<style scoped>\n",
       "    .dataframe tbody tr th:only-of-type {\n",
       "        vertical-align: middle;\n",
       "    }\n",
       "\n",
       "    .dataframe tbody tr th {\n",
       "        vertical-align: top;\n",
       "    }\n",
       "\n",
       "    .dataframe thead th {\n",
       "        text-align: right;\n",
       "    }\n",
       "</style>\n",
       "<table border=\"1\" class=\"dataframe\">\n",
       "  <thead>\n",
       "    <tr style=\"text-align: right;\">\n",
       "      <th></th>\n",
       "      <th>Review_Year</th>\n",
       "      <th>Rank</th>\n",
       "      <th>Vintage</th>\n",
       "      <th>Score</th>\n",
       "      <th>Price</th>\n",
       "      <th>Winemaker</th>\n",
       "      <th>Wine</th>\n",
       "      <th>Wine_Style</th>\n",
       "      <th>Grape_Blend</th>\n",
       "      <th>Blend_List</th>\n",
       "      <th>...</th>\n",
       "      <th>Best_Drink_from</th>\n",
       "      <th>Best_Drink_Through</th>\n",
       "      <th>Review</th>\n",
       "      <th>Hierarchy</th>\n",
       "      <th>Address</th>\n",
       "      <th>loc</th>\n",
       "      <th>point</th>\n",
       "      <th>lat</th>\n",
       "      <th>long</th>\n",
       "      <th>altitude</th>\n",
       "    </tr>\n",
       "  </thead>\n",
       "  <tbody>\n",
       "    <tr>\n",
       "      <th>2449</th>\n",
       "      <td>1996</td>\n",
       "      <td>48</td>\n",
       "      <td>1994</td>\n",
       "      <td>93.0</td>\n",
       "      <td>19</td>\n",
       "      <td>Robert Biale</td>\n",
       "      <td>Zinfandel Napa Valley Aldo's Vineyard</td>\n",
       "      <td>Red</td>\n",
       "      <td>Zinfandel</td>\n",
       "      <td>NaN</td>\n",
       "      <td>...</td>\n",
       "      <td>NaN</td>\n",
       "      <td>NaN</td>\n",
       "      <td>A Zinfandel in a rich yet elegant style, showi...</td>\n",
       "      <td>Hierarchy_00</td>\n",
       "      <td>USA</td>\n",
       "      <td>United States</td>\n",
       "      <td>(39.7837304, -100.4458825, 0.0)</td>\n",
       "      <td>39.783730</td>\n",
       "      <td>-100.445882</td>\n",
       "      <td>0.0</td>\n",
       "    </tr>\n",
       "    <tr>\n",
       "      <th>1884</th>\n",
       "      <td>2002</td>\n",
       "      <td>83</td>\n",
       "      <td>1999</td>\n",
       "      <td>91.0</td>\n",
       "      <td>35</td>\n",
       "      <td>Franciscan Oakville Estate</td>\n",
       "      <td>Chardonnay Napa Valley Cuvée Sauvage</td>\n",
       "      <td>White</td>\n",
       "      <td>Chardonnay</td>\n",
       "      <td>NaN</td>\n",
       "      <td>...</td>\n",
       "      <td>2002.0</td>\n",
       "      <td>2007.0</td>\n",
       "      <td>Rich, elegant and stylish, with pretty hazelnu...</td>\n",
       "      <td>Hierarchy_00</td>\n",
       "      <td>USA</td>\n",
       "      <td>United States</td>\n",
       "      <td>(39.7837304, -100.4458825, 0.0)</td>\n",
       "      <td>39.783730</td>\n",
       "      <td>-100.445882</td>\n",
       "      <td>0.0</td>\n",
       "    </tr>\n",
       "    <tr>\n",
       "      <th>619</th>\n",
       "      <td>2014</td>\n",
       "      <td>18</td>\n",
       "      <td>2011</td>\n",
       "      <td>95.0</td>\n",
       "      <td>35</td>\n",
       "      <td>Château Doisy-Védrines</td>\n",
       "      <td>Barsac</td>\n",
       "      <td>Dessert &amp; Fortified</td>\n",
       "      <td>Semillon</td>\n",
       "      <td>NaN</td>\n",
       "      <td>...</td>\n",
       "      <td>2016.0</td>\n",
       "      <td>2035.0</td>\n",
       "      <td>Pure, with piercing persimmon, pineapple, whit...</td>\n",
       "      <td>Hierarchy_00</td>\n",
       "      <td>France</td>\n",
       "      <td>France</td>\n",
       "      <td>(46.603354, 1.8883335, 0.0)</td>\n",
       "      <td>46.603354</td>\n",
       "      <td>1.888333</td>\n",
       "      <td>0.0</td>\n",
       "    </tr>\n",
       "    <tr>\n",
       "      <th>2570</th>\n",
       "      <td>1995</td>\n",
       "      <td>69</td>\n",
       "      <td>1993</td>\n",
       "      <td>92.0</td>\n",
       "      <td>21</td>\n",
       "      <td>Stonestreet</td>\n",
       "      <td>Chardonnay Sonoma County</td>\n",
       "      <td>White</td>\n",
       "      <td>Chardonnay</td>\n",
       "      <td>NaN</td>\n",
       "      <td>...</td>\n",
       "      <td>NaN</td>\n",
       "      <td>NaN</td>\n",
       "      <td>Another remarkable Chardonnay from Stonestreet...</td>\n",
       "      <td>Hierarchy_00</td>\n",
       "      <td>USA</td>\n",
       "      <td>United States</td>\n",
       "      <td>(39.7837304, -100.4458825, 0.0)</td>\n",
       "      <td>39.783730</td>\n",
       "      <td>-100.445882</td>\n",
       "      <td>0.0</td>\n",
       "    </tr>\n",
       "    <tr>\n",
       "      <th>225</th>\n",
       "      <td>2018</td>\n",
       "      <td>26</td>\n",
       "      <td>2015</td>\n",
       "      <td>94.0</td>\n",
       "      <td>45</td>\n",
       "      <td>Bodegas y Viñedos Valderiz</td>\n",
       "      <td>Ribera del Duero</td>\n",
       "      <td>Red</td>\n",
       "      <td>Tempranillo</td>\n",
       "      <td>NaN</td>\n",
       "      <td>...</td>\n",
       "      <td>2018.0</td>\n",
       "      <td>2030.0</td>\n",
       "      <td>Rich and focused, this red delivers ripe fruit...</td>\n",
       "      <td>Hierarchy_00</td>\n",
       "      <td>Spain</td>\n",
       "      <td>España</td>\n",
       "      <td>(39.3262345, -4.8380649, 0.0)</td>\n",
       "      <td>39.326234</td>\n",
       "      <td>-4.838065</td>\n",
       "      <td>0.0</td>\n",
       "    </tr>\n",
       "    <tr>\n",
       "      <th>2868</th>\n",
       "      <td>1992</td>\n",
       "      <td>66</td>\n",
       "      <td>1990</td>\n",
       "      <td>88.0</td>\n",
       "      <td>28</td>\n",
       "      <td>Kumeu River</td>\n",
       "      <td>Chardonnay Kumeu</td>\n",
       "      <td>White</td>\n",
       "      <td>Chardonnay</td>\n",
       "      <td>NaN</td>\n",
       "      <td>...</td>\n",
       "      <td>NaN</td>\n",
       "      <td>NaN</td>\n",
       "      <td>Pulls out all the stops. Ripe, buttery aromas ...</td>\n",
       "      <td>Hierarchy_00</td>\n",
       "      <td>New Zealand</td>\n",
       "      <td>New Zealand / Aotearoa</td>\n",
       "      <td>(-41.5000831, 172.8344077, 0.0)</td>\n",
       "      <td>-41.500083</td>\n",
       "      <td>172.834408</td>\n",
       "      <td>0.0</td>\n",
       "    </tr>\n",
       "    <tr>\n",
       "      <th>1411</th>\n",
       "      <td>2006</td>\n",
       "      <td>10</td>\n",
       "      <td>2004</td>\n",
       "      <td>95.0</td>\n",
       "      <td>50</td>\n",
       "      <td>Two Hands</td>\n",
       "      <td>Shiraz Barossa Valley Bella's Garden</td>\n",
       "      <td>Red</td>\n",
       "      <td>Shiraz | Syrah</td>\n",
       "      <td>NaN</td>\n",
       "      <td>...</td>\n",
       "      <td>2007.0</td>\n",
       "      <td>2020.0</td>\n",
       "      <td>Dark, deep and impressively focused, a massive...</td>\n",
       "      <td>Hierarchy_00</td>\n",
       "      <td>Australia</td>\n",
       "      <td>Australia</td>\n",
       "      <td>(-24.7761086, 134.755, 0.0)</td>\n",
       "      <td>-24.776109</td>\n",
       "      <td>134.755000</td>\n",
       "      <td>0.0</td>\n",
       "    </tr>\n",
       "    <tr>\n",
       "      <th>1183</th>\n",
       "      <td>2009</td>\n",
       "      <td>82</td>\n",
       "      <td>2008</td>\n",
       "      <td>90.0</td>\n",
       "      <td>11</td>\n",
       "      <td>d'Arenberg</td>\n",
       "      <td>Shiraz McLaren Vale The Stump Jump</td>\n",
       "      <td>Red</td>\n",
       "      <td>Shiraz | Syrah</td>\n",
       "      <td>NaN</td>\n",
       "      <td>...</td>\n",
       "      <td>2009.0</td>\n",
       "      <td>2018.0</td>\n",
       "      <td>Ripe and open-textured, this is impressive for...</td>\n",
       "      <td>Hierarchy_00</td>\n",
       "      <td>Australia</td>\n",
       "      <td>Australia</td>\n",
       "      <td>(-24.7761086, 134.755, 0.0)</td>\n",
       "      <td>-24.776109</td>\n",
       "      <td>134.755000</td>\n",
       "      <td>0.0</td>\n",
       "    </tr>\n",
       "    <tr>\n",
       "      <th>1170</th>\n",
       "      <td>2009</td>\n",
       "      <td>69</td>\n",
       "      <td>2007</td>\n",
       "      <td>91.0</td>\n",
       "      <td>22</td>\n",
       "      <td>Bodega Catena Zapata</td>\n",
       "      <td>Malbec Mendoza</td>\n",
       "      <td>Red</td>\n",
       "      <td>Malbec</td>\n",
       "      <td>NaN</td>\n",
       "      <td>...</td>\n",
       "      <td>2009.0</td>\n",
       "      <td>2011.0</td>\n",
       "      <td>A sleek, polished style, with alluring mocha a...</td>\n",
       "      <td>Hierarchy_00</td>\n",
       "      <td>Argentina</td>\n",
       "      <td>Argentina</td>\n",
       "      <td>(-34.9964963, -64.9672817, 0.0)</td>\n",
       "      <td>-34.996496</td>\n",
       "      <td>-64.967282</td>\n",
       "      <td>0.0</td>\n",
       "    </tr>\n",
       "    <tr>\n",
       "      <th>3111</th>\n",
       "      <td>1989</td>\n",
       "      <td>9</td>\n",
       "      <td>1986</td>\n",
       "      <td>97.0</td>\n",
       "      <td>50</td>\n",
       "      <td>Château Pichon Longueville Lalande</td>\n",
       "      <td>Pauillac</td>\n",
       "      <td>Red</td>\n",
       "      <td>Blend</td>\n",
       "      <td>Bordeaux Blend Red</td>\n",
       "      <td>...</td>\n",
       "      <td>2000.0</td>\n",
       "      <td>NaN</td>\n",
       "      <td>Amazingly rich and elegant with concentrated a...</td>\n",
       "      <td>Hierarchy_00</td>\n",
       "      <td>France</td>\n",
       "      <td>France</td>\n",
       "      <td>(46.603354, 1.8883335, 0.0)</td>\n",
       "      <td>46.603354</td>\n",
       "      <td>1.888333</td>\n",
       "      <td>0.0</td>\n",
       "    </tr>\n",
       "  </tbody>\n",
       "</table>\n",
       "<p>10 rows × 25 columns</p>\n",
       "</div>"
      ],
      "text/plain": [
       "      Review_Year Rank Vintage  Score Price  \\\n",
       "2449         1996   48    1994   93.0    19   \n",
       "1884         2002   83    1999   91.0    35   \n",
       "619          2014   18    2011   95.0    35   \n",
       "2570         1995   69    1993   92.0    21   \n",
       "225          2018   26    2015   94.0    45   \n",
       "2868         1992   66    1990   88.0    28   \n",
       "1411         2006   10    2004   95.0    50   \n",
       "1183         2009   82    2008   90.0    11   \n",
       "1170         2009   69    2007   91.0    22   \n",
       "3111         1989    9    1986   97.0    50   \n",
       "\n",
       "                               Winemaker  \\\n",
       "2449                        Robert Biale   \n",
       "1884          Franciscan Oakville Estate   \n",
       "619               Château Doisy-Védrines   \n",
       "2570                         Stonestreet   \n",
       "225           Bodegas y Viñedos Valderiz   \n",
       "2868                         Kumeu River   \n",
       "1411                           Two Hands   \n",
       "1183                          d'Arenberg   \n",
       "1170                Bodega Catena Zapata   \n",
       "3111  Château Pichon Longueville Lalande   \n",
       "\n",
       "                                       Wine           Wine_Style  \\\n",
       "2449  Zinfandel Napa Valley Aldo's Vineyard                  Red   \n",
       "1884   Chardonnay Napa Valley Cuvée Sauvage                White   \n",
       "619                                  Barsac  Dessert & Fortified   \n",
       "2570               Chardonnay Sonoma County                White   \n",
       "225                        Ribera del Duero                  Red   \n",
       "2868                       Chardonnay Kumeu                White   \n",
       "1411   Shiraz Barossa Valley Bella's Garden                  Red   \n",
       "1183     Shiraz McLaren Vale The Stump Jump                  Red   \n",
       "1170                         Malbec Mendoza                  Red   \n",
       "3111                               Pauillac                  Red   \n",
       "\n",
       "         Grape_Blend          Blend_List  ... Best_Drink_from  \\\n",
       "2449       Zinfandel                 NaN  ...             NaN   \n",
       "1884     Chardonnay                  NaN  ...          2002.0   \n",
       "619         Semillon                 NaN  ...          2016.0   \n",
       "2570     Chardonnay                  NaN  ...             NaN   \n",
       "225      Tempranillo                 NaN  ...          2018.0   \n",
       "2868     Chardonnay                  NaN  ...             NaN   \n",
       "1411  Shiraz | Syrah                 NaN  ...          2007.0   \n",
       "1183  Shiraz | Syrah                 NaN  ...          2009.0   \n",
       "1170         Malbec                  NaN  ...          2009.0   \n",
       "3111           Blend  Bordeaux Blend Red  ...          2000.0   \n",
       "\n",
       "      Best_Drink_Through                                             Review  \\\n",
       "2449                 NaN  A Zinfandel in a rich yet elegant style, showi...   \n",
       "1884              2007.0  Rich, elegant and stylish, with pretty hazelnu...   \n",
       "619               2035.0  Pure, with piercing persimmon, pineapple, whit...   \n",
       "2570                 NaN  Another remarkable Chardonnay from Stonestreet...   \n",
       "225               2030.0  Rich and focused, this red delivers ripe fruit...   \n",
       "2868                 NaN  Pulls out all the stops. Ripe, buttery aromas ...   \n",
       "1411              2020.0  Dark, deep and impressively focused, a massive...   \n",
       "1183              2018.0  Ripe and open-textured, this is impressive for...   \n",
       "1170              2011.0  A sleek, polished style, with alluring mocha a...   \n",
       "3111                 NaN  Amazingly rich and elegant with concentrated a...   \n",
       "\n",
       "         Hierarchy      Address                     loc  \\\n",
       "2449  Hierarchy_00          USA           United States   \n",
       "1884  Hierarchy_00          USA           United States   \n",
       "619   Hierarchy_00       France                  France   \n",
       "2570  Hierarchy_00          USA           United States   \n",
       "225   Hierarchy_00        Spain                  España   \n",
       "2868  Hierarchy_00  New Zealand  New Zealand / Aotearoa   \n",
       "1411  Hierarchy_00    Australia               Australia   \n",
       "1183  Hierarchy_00    Australia               Australia   \n",
       "1170  Hierarchy_00    Argentina               Argentina   \n",
       "3111  Hierarchy_00       France                  France   \n",
       "\n",
       "                                point        lat        long altitude  \n",
       "2449  (39.7837304, -100.4458825, 0.0)  39.783730 -100.445882      0.0  \n",
       "1884  (39.7837304, -100.4458825, 0.0)  39.783730 -100.445882      0.0  \n",
       "619       (46.603354, 1.8883335, 0.0)  46.603354    1.888333      0.0  \n",
       "2570  (39.7837304, -100.4458825, 0.0)  39.783730 -100.445882      0.0  \n",
       "225     (39.3262345, -4.8380649, 0.0)  39.326234   -4.838065      0.0  \n",
       "2868  (-41.5000831, 172.8344077, 0.0) -41.500083  172.834408      0.0  \n",
       "1411      (-24.7761086, 134.755, 0.0) -24.776109  134.755000      0.0  \n",
       "1183      (-24.7761086, 134.755, 0.0) -24.776109  134.755000      0.0  \n",
       "1170  (-34.9964963, -64.9672817, 0.0) -34.996496  -64.967282      0.0  \n",
       "3111      (46.603354, 1.8883335, 0.0)  46.603354    1.888333      0.0  \n",
       "\n",
       "[10 rows x 25 columns]"
      ]
     },
     "execution_count": 165,
     "metadata": {},
     "output_type": "execute_result"
    }
   ],
   "source": [
    "df_Wine.sample(10)"
   ]
  },
  {
   "cell_type": "markdown",
   "metadata": {},
   "source": [
    "## Vintage Wines were Cases Made was Non-Zero"
   ]
  },
  {
   "cell_type": "code",
   "execution_count": 166,
   "metadata": {},
   "outputs": [],
   "source": [
    "# replace 'NaN' results in chart with 0 to facilitate analysis\n",
    "df_Wine.fillna(value = 0, inplace = True)"
   ]
  },
  {
   "cell_type": "code",
   "execution_count": 167,
   "metadata": {},
   "outputs": [
    {
     "data": {
      "text/plain": [
       "(2667, 25)"
      ]
     },
     "execution_count": 167,
     "metadata": {},
     "output_type": "execute_result"
    }
   ],
   "source": [
    "# Remove Non-Vintage (NV) wines from df_Wine\n",
    "# Include only wines with a Cases_Made value\n",
    "\n",
    "df_Wine_V = df_Wine[\n",
    "    (df_Wine.Vintage != 'NV') &\n",
    "    (df_Wine.Cases_Made != 0)\n",
    "]\n",
    "\n",
    "df_Wine_V.shape"
   ]
  },
  {
   "cell_type": "code",
   "execution_count": 168,
   "metadata": {},
   "outputs": [
    {
     "data": {
      "text/html": [
       "<div>\n",
       "<style scoped>\n",
       "    .dataframe tbody tr th:only-of-type {\n",
       "        vertical-align: middle;\n",
       "    }\n",
       "\n",
       "    .dataframe tbody tr th {\n",
       "        vertical-align: top;\n",
       "    }\n",
       "\n",
       "    .dataframe thead th {\n",
       "        text-align: right;\n",
       "    }\n",
       "</style>\n",
       "<table border=\"1\" class=\"dataframe\">\n",
       "  <thead>\n",
       "    <tr style=\"text-align: right;\">\n",
       "      <th></th>\n",
       "      <th>Wine_Style</th>\n",
       "      <th>Avg_Cases_Made</th>\n",
       "    </tr>\n",
       "  </thead>\n",
       "  <tbody>\n",
       "    <tr>\n",
       "      <th>0</th>\n",
       "      <td>Dessert &amp; Fortified</td>\n",
       "      <td>6854.898305</td>\n",
       "    </tr>\n",
       "    <tr>\n",
       "      <th>1</th>\n",
       "      <td>Red</td>\n",
       "      <td>9303.433141</td>\n",
       "    </tr>\n",
       "    <tr>\n",
       "      <th>2</th>\n",
       "      <td>Rosé | Rosado</td>\n",
       "      <td>12566.571429</td>\n",
       "    </tr>\n",
       "    <tr>\n",
       "      <th>3</th>\n",
       "      <td>Sparkling</td>\n",
       "      <td>6874.969697</td>\n",
       "    </tr>\n",
       "    <tr>\n",
       "      <th>4</th>\n",
       "      <td>White</td>\n",
       "      <td>12529.951589</td>\n",
       "    </tr>\n",
       "  </tbody>\n",
       "</table>\n",
       "</div>"
      ],
      "text/plain": [
       "            Wine_Style  Avg_Cases_Made\n",
       "0  Dessert & Fortified     6854.898305\n",
       "1                  Red     9303.433141\n",
       "2        Rosé | Rosado    12566.571429\n",
       "3            Sparkling     6874.969697\n",
       "4                White    12529.951589"
      ]
     },
     "execution_count": 168,
     "metadata": {},
     "output_type": "execute_result"
    }
   ],
   "source": [
    "# Average Cases Made by Wine Style - All Years\n",
    "df_CM_All = pd.DataFrame({'Avg_Cases_Made' : df_Wine_V.groupby(['Wine_Style'])['Cases_Made'].mean()}).reset_index()\n",
    "df_CM_All"
   ]
  },
  {
   "cell_type": "code",
   "execution_count": 169,
   "metadata": {},
   "outputs": [
    {
     "data": {
      "text/html": [
       "<div>\n",
       "<style scoped>\n",
       "    .dataframe tbody tr th:only-of-type {\n",
       "        vertical-align: middle;\n",
       "    }\n",
       "\n",
       "    .dataframe tbody tr th {\n",
       "        vertical-align: top;\n",
       "    }\n",
       "\n",
       "    .dataframe thead th {\n",
       "        text-align: right;\n",
       "    }\n",
       "</style>\n",
       "<table border=\"1\" class=\"dataframe\">\n",
       "  <thead>\n",
       "    <tr style=\"text-align: right;\">\n",
       "      <th></th>\n",
       "      <th>Vintage</th>\n",
       "      <th>Wine_Style</th>\n",
       "      <th>Avg_Cases_Made</th>\n",
       "    </tr>\n",
       "  </thead>\n",
       "  <tbody>\n",
       "    <tr>\n",
       "      <th>1</th>\n",
       "      <td>1982</td>\n",
       "      <td>Red</td>\n",
       "      <td>4250.000000</td>\n",
       "    </tr>\n",
       "    <tr>\n",
       "      <th>123</th>\n",
       "      <td>2019</td>\n",
       "      <td>Red</td>\n",
       "      <td>88540.000000</td>\n",
       "    </tr>\n",
       "    <tr>\n",
       "      <th>38</th>\n",
       "      <td>1995</td>\n",
       "      <td>Red</td>\n",
       "      <td>8294.912281</td>\n",
       "    </tr>\n",
       "    <tr>\n",
       "      <th>28</th>\n",
       "      <td>1992</td>\n",
       "      <td>White</td>\n",
       "      <td>6034.852941</td>\n",
       "    </tr>\n",
       "    <tr>\n",
       "      <th>8</th>\n",
       "      <td>1986</td>\n",
       "      <td>White</td>\n",
       "      <td>2381.000000</td>\n",
       "    </tr>\n",
       "    <tr>\n",
       "      <th>31</th>\n",
       "      <td>1993</td>\n",
       "      <td>Sparkling</td>\n",
       "      <td>5700.000000</td>\n",
       "    </tr>\n",
       "    <tr>\n",
       "      <th>26</th>\n",
       "      <td>1992</td>\n",
       "      <td>Dessert &amp; Fortified</td>\n",
       "      <td>5566.666667</td>\n",
       "    </tr>\n",
       "    <tr>\n",
       "      <th>103</th>\n",
       "      <td>2014</td>\n",
       "      <td>Dessert &amp; Fortified</td>\n",
       "      <td>4000.000000</td>\n",
       "    </tr>\n",
       "    <tr>\n",
       "      <th>10</th>\n",
       "      <td>1987</td>\n",
       "      <td>Sparkling</td>\n",
       "      <td>2000.000000</td>\n",
       "    </tr>\n",
       "    <tr>\n",
       "      <th>75</th>\n",
       "      <td>2006</td>\n",
       "      <td>Red</td>\n",
       "      <td>12586.566667</td>\n",
       "    </tr>\n",
       "  </tbody>\n",
       "</table>\n",
       "</div>"
      ],
      "text/plain": [
       "    Vintage           Wine_Style  Avg_Cases_Made\n",
       "1      1982                  Red     4250.000000\n",
       "123    2019                  Red    88540.000000\n",
       "38     1995                  Red     8294.912281\n",
       "28     1992                White     6034.852941\n",
       "8      1986                White     2381.000000\n",
       "31     1993            Sparkling     5700.000000\n",
       "26     1992  Dessert & Fortified     5566.666667\n",
       "103    2014  Dessert & Fortified     4000.000000\n",
       "10     1987            Sparkling     2000.000000\n",
       "75     2006                  Red    12586.566667"
      ]
     },
     "execution_count": 169,
     "metadata": {},
     "output_type": "execute_result"
    }
   ],
   "source": [
    "# Average Cases Made by Wine Style - By Vintage Year\n",
    "df_CM_ByYear = pd.DataFrame({'Avg_Cases_Made' : df_Wine_V.groupby(['Vintage', 'Wine_Style'])['Cases_Made'].mean()}).reset_index()\n",
    "df_CM_ByYear.sample(10)"
   ]
  },
  {
   "cell_type": "markdown",
   "metadata": {},
   "source": [
    "### Visualization"
   ]
  },
  {
   "cell_type": "code",
   "execution_count": 170,
   "metadata": {},
   "outputs": [],
   "source": [
    "# set palette and dimensions\n",
    "palette = sns.color_palette('colorblind')"
   ]
  },
  {
   "cell_type": "code",
   "execution_count": 171,
   "metadata": {},
   "outputs": [
    {
     "data": {
      "text/plain": [
       "Text(0.5, 1.1, 'Average Cases Made by Wine Style')"
      ]
     },
     "execution_count": 171,
     "metadata": {},
     "output_type": "execute_result"
    },
    {
     "data": {
      "image/png": "[encoded data removed]",
      "text/plain": [
       "<Figure size 360x360 with 1 Axes>"
      ]
     },
     "metadata": {
      "needs_background": "light"
     },
     "output_type": "display_data"
    }
   ],
   "source": [
    "# bar plot of summary data\n",
    "\n",
    "g = sns.catplot(\n",
    "    data = df_CM_All,\n",
    "    kind = 'bar',\n",
    "    y = 'Wine_Style',\n",
    "    x = 'Avg_Cases_Made'\n",
    ")\n",
    "\n",
    "g.despine(left = True)\n",
    "g.set_axis_labels('Wine Style', 'Years')\n",
    "\n",
    "plt.suptitle('Average Cases Made by Wine Style', y = 1.1)"
   ]
  },
  {
   "cell_type": "code",
   "execution_count": 172,
   "metadata": {},
   "outputs": [],
   "source": [
    "# define a function to plot cases made by year by wine style\n",
    "\n",
    "def cmby(wine_style):\n",
    "    df = df_CM_ByYear[\n",
    "        (df_CM_ByYear['Wine_Style'] == wine_style )\n",
    "    ]\n",
    "    \n",
    "    # set palette and dimensions\n",
    "    palette = sns.color_palette('colorblind')\n",
    "    \n",
    "    dim = (8, 10)\n",
    "    fig, ax = plt.subplots(figsize = dim)\n",
    "    \n",
    "    g = sns.barplot(\n",
    "        data = df,\n",
    "        orient = 'h',\n",
    "        y = 'Vintage',\n",
    "        x = 'Avg_Cases_Made'\n",
    "    )\n",
    "    \n",
    "    plt.suptitle(wine_style + '\\nAverage Number of Cases Made by Vintage Year', y = 1)"
   ]
  },
  {
   "cell_type": "code",
   "execution_count": 173,
   "metadata": {},
   "outputs": [
    {
     "data": {
      "image/png": "[encoded data removed]",
      "text/plain": [
       "<Figure size 576x720 with 1 Axes>"
      ]
     },
     "metadata": {
      "needs_background": "light"
     },
     "output_type": "display_data"
    }
   ],
   "source": [
    "cmby('Dessert & Fortified')"
   ]
  },
  {
   "cell_type": "code",
   "execution_count": 174,
   "metadata": {},
   "outputs": [
    {
     "data": {
      "image/png": "[encoded data removed]",
      "text/plain": [
       "<Figure size 576x720 with 1 Axes>"
      ]
     },
     "metadata": {
      "needs_background": "light"
     },
     "output_type": "display_data"
    }
   ],
   "source": [
    "cmby('Red')"
   ]
  },
  {
   "cell_type": "code",
   "execution_count": 175,
   "metadata": {},
   "outputs": [
    {
     "data": {
      "image/png": "[encoded data removed]",
      "text/plain": [
       "<Figure size 576x720 with 1 Axes>"
      ]
     },
     "metadata": {
      "needs_background": "light"
     },
     "output_type": "display_data"
    }
   ],
   "source": [
    "cmby('Rosé | Rosado')"
   ]
  },
  {
   "cell_type": "code",
   "execution_count": 176,
   "metadata": {},
   "outputs": [
    {
     "data": {
      "image/png": "[encoded data removed]",
      "text/plain": [
       "<Figure size 576x720 with 1 Axes>"
      ]
     },
     "metadata": {
      "needs_background": "light"
     },
     "output_type": "display_data"
    }
   ],
   "source": [
    "cmby('Sparkling')"
   ]
  },
  {
   "cell_type": "code",
   "execution_count": 177,
   "metadata": {},
   "outputs": [
    {
     "data": {
      "image/png": "[encoded data removed]",
      "text/plain": [
       "<Figure size 576x720 with 1 Axes>"
      ]
     },
     "metadata": {
      "needs_background": "light"
     },
     "output_type": "display_data"
    }
   ],
   "source": [
    "cmby('White')"
   ]
  },
  {
   "cell_type": "code",
   "execution_count": 178,
   "metadata": {},
   "outputs": [
    {
     "data": {
      "text/html": [
       "<div>\n",
       "<style scoped>\n",
       "    .dataframe tbody tr th:only-of-type {\n",
       "        vertical-align: middle;\n",
       "    }\n",
       "\n",
       "    .dataframe tbody tr th {\n",
       "        vertical-align: top;\n",
       "    }\n",
       "\n",
       "    .dataframe thead th {\n",
       "        text-align: right;\n",
       "    }\n",
       "</style>\n",
       "<table border=\"1\" class=\"dataframe\">\n",
       "  <thead>\n",
       "    <tr style=\"text-align: right;\">\n",
       "      <th></th>\n",
       "      <th>Vintage</th>\n",
       "      <th>Wine_Style</th>\n",
       "      <th>Address</th>\n",
       "      <th>Avg_Cases_Made</th>\n",
       "    </tr>\n",
       "  </thead>\n",
       "  <tbody>\n",
       "    <tr>\n",
       "      <th>0</th>\n",
       "      <td>1979</td>\n",
       "      <td>Red</td>\n",
       "      <td>Spain</td>\n",
       "      <td>1000.0</td>\n",
       "    </tr>\n",
       "    <tr>\n",
       "      <th>1</th>\n",
       "      <td>1982</td>\n",
       "      <td>Red</td>\n",
       "      <td>Australia</td>\n",
       "      <td>5000.0</td>\n",
       "    </tr>\n",
       "    <tr>\n",
       "      <th>2</th>\n",
       "      <td>1982</td>\n",
       "      <td>Red</td>\n",
       "      <td>Spain</td>\n",
       "      <td>3500.0</td>\n",
       "    </tr>\n",
       "    <tr>\n",
       "      <th>3</th>\n",
       "      <td>1983</td>\n",
       "      <td>Red</td>\n",
       "      <td>Portugal</td>\n",
       "      <td>2224.0</td>\n",
       "    </tr>\n",
       "    <tr>\n",
       "      <th>4</th>\n",
       "      <td>1984</td>\n",
       "      <td>Red</td>\n",
       "      <td>USA</td>\n",
       "      <td>8465.0</td>\n",
       "    </tr>\n",
       "  </tbody>\n",
       "</table>\n",
       "</div>"
      ],
      "text/plain": [
       "  Vintage Wine_Style    Address  Avg_Cases_Made\n",
       "0    1979        Red      Spain          1000.0\n",
       "1    1982        Red  Australia          5000.0\n",
       "2    1982        Red      Spain          3500.0\n",
       "3    1983        Red   Portugal          2224.0\n",
       "4    1984        Red        USA          8465.0"
      ]
     },
     "execution_count": 178,
     "metadata": {},
     "output_type": "execute_result"
    }
   ],
   "source": [
    "# Create a dataset that allows for next-level analysis\n",
    "\n",
    "df_CMBYBC = pd.DataFrame({'Avg_Cases_Made' : df_Wine_V.groupby(['Vintage', 'Wine_Style', 'Address'])['Cases_Made'].mean()})\n",
    "df_CMBYBC = df_CMBYBC.reset_index()\n",
    "df_CMBYBC.head()"
   ]
  },
  {
   "cell_type": "code",
   "execution_count": 179,
   "metadata": {},
   "outputs": [],
   "source": [
    "# Write functions to explore specific vintage years by wine style and by country\n",
    "\n",
    "def cmbybc(wine_style, vintage):\n",
    "    df = df_CMBYBC[\n",
    "        (df_CMBYBC['Wine_Style'] == wine_style ) &\n",
    "        (df_CMBYBC['Vintage'] == vintage)\n",
    "    ]\n",
    "    \n",
    "    # set palette and dimensions\n",
    "    palette = sns.color_palette('colorblind')\n",
    "    \n",
    "    #dim = (8, 10)\n",
    "    #fig, ax = plt.subplots(figsize = dim)\n",
    "    \n",
    "    g = sns.barplot(\n",
    "        data = df,\n",
    "        orient = 'h',\n",
    "        y = 'Address',\n",
    "        x = 'Avg_Cases_Made'\n",
    "    )\n",
    "    \n",
    "    plt.suptitle(wine_style + '\\nAverage Number of Cases Made by Country in ' + vintage, y = 1)\n",
    "    \n",
    "def cmbybc_table(wine_style, vintage):\n",
    "    df = df_Wine_V[\n",
    "        (df_Wine_V['Wine_Style'] == wine_style ) &\n",
    "        (df_Wine_V['Vintage'] == vintage)\n",
    "    ]\n",
    "    \n",
    "    print(df[['Review_Year', 'Rank', 'Vintage', 'Score', 'Price', 'Winemaker', 'Wine', 'Wine_Style', 'Grape_Blend', 'Cases_Made', 'Cases_Imported', 'Geography', 'Address']])"
   ]
  },
  {
   "cell_type": "code",
   "execution_count": 180,
   "metadata": {},
   "outputs": [
    {
     "name": "stdout",
     "output_type": "stream",
     "text": [
      "    Review_Year Rank Vintage  Score Price          Winemaker  \\\n",
      "42         2020   43    2019   90.0    13  Domaine Bousquet    \n",
      "\n",
      "                 Wine Wine_Style Grape_Blend  Cases_Made  Cases_Imported  \\\n",
      "42  Malbec Tupungato         Red     Malbec      88540.0         27793.0   \n",
      "\n",
      "    Geography    Address  \n",
      "42  Tupungato  Argentina  \n"
     ]
    }
   ],
   "source": [
    "# Explore Red wines, 2019\n",
    "cmbybc_table('Red', '2019')"
   ]
  },
  {
   "cell_type": "code",
   "execution_count": 182,
   "metadata": {},
   "outputs": [
    {
     "name": "stdout",
     "output_type": "stream",
     "text": [
      "      Review_Year Rank Vintage  Score Price  Winemaker  \\\n",
      "3019         1990   17    1985   96.0    45  Bollinger   \n",
      "3037         1990   35    1985   93.0    37     Lanson   \n",
      "\n",
      "                             Wine Wine_Style Grape_Blend  Cases_Made  \\\n",
      "3019  Brut Champagne Grande Année  Sparkling   Champagne     15000.0   \n",
      "3037    Brut Champagne Gold Label  Sparkling   Champagne     40000.0   \n",
      "\n",
      "      Cases_Imported  Geography Address  \n",
      "3019             0.0  Champagne  France  \n",
      "3037             0.0  Champagne  France  \n"
     ]
    }
   ],
   "source": [
    "# Explore Sparkling Wines, 1985\n",
    "cmbybc_table('Sparkling', '1985')"
   ]
  },
  {
   "cell_type": "code",
   "execution_count": 183,
   "metadata": {},
   "outputs": [
    {
     "data": {
      "image/png": "[encoded data removed]",
      "text/plain": [
       "<Figure size 432x288 with 1 Axes>"
      ]
     },
     "metadata": {
      "needs_background": "light"
     },
     "output_type": "display_data"
    }
   ],
   "source": [
    "# Explore White Wines, 2019\n",
    "cmbybc('White', '2019')"
   ]
  },
  {
   "cell_type": "code",
   "execution_count": 155,
   "metadata": {},
   "outputs": [
    {
     "name": "stdout",
     "output_type": "stream",
     "text": [
      "    Review_Year Rank Vintage  Score Price        Winemaker  \\\n",
      "20         2020   21    2019   92.0    12       Joel Gott    \n",
      "49         2020   50    2019   90.0    14      Los Vascos    \n",
      "58         2020   59    2019   90.0    16  Southern Right    \n",
      "65         2020   66    2019   90.0    20           Invivo   \n",
      "72         2020   73    2019   90.0    20      Spy Valley    \n",
      "83         2020   84    2019   94.0    35           Delas    \n",
      "93         2020   94    2019   90.0    15   Klinker Brick    \n",
      "\n",
      "                                                 Wine Wine_Style  \\\n",
      "20                        Sauvignon Blanc California       White   \n",
      "49                 Sauvignon Blanc Casablanca Valley       White   \n",
      "58                        Sauvignon Blanc Walker Bay       White   \n",
      "65  Sauvignon Blanc Marlborough X, Sarah Jessica P...      White   \n",
      "72                       Sauvignon Blanc Marlborough       White   \n",
      "83                     St.-Joseph White Les Challeys       White   \n",
      "93                               Grenache Blanc Lodi       White   \n",
      "\n",
      "                         Grape_Blend  Cases_Made  Cases_Imported  \\\n",
      "20                   Sauvignon Blanc     98000.0             0.0   \n",
      "49                   Sauvignon Blanc     25000.0          6000.0   \n",
      "58                   Sauvignon Blanc      9000.0          3500.0   \n",
      "65                   Sauvignon Blanc     55000.0         35000.0   \n",
      "72                   Sauvignon Blanc     40000.0         35000.0   \n",
      "83                             Blend       700.0             0.0   \n",
      "93  Grenache Blanc | Garnacha Blanca       750.0             0.0   \n",
      "\n",
      "            Geography       Address  \n",
      "20         California           USA  \n",
      "49  Casablanca Valley         Chile  \n",
      "58         Walker Bay  South Africa  \n",
      "65        Marlborough   New Zealand  \n",
      "72        Marlborough   New Zealand  \n",
      "83         St.-Joseph        France  \n",
      "93               Lodi           USA  \n"
     ]
    }
   ],
   "source": [
    "# Explore White Wines, 2019\n",
    "cmbybc_table('White', '2019')"
   ]
  },
  {
   "cell_type": "code",
   "execution_count": 185,
   "metadata": {},
   "outputs": [
    {
     "name": "stdout",
     "output_type": "stream",
     "text": [
      "    Review_Year Rank Vintage  Score Price     Winemaker  \\\n",
      "22         2020   23    2020   92.0    17  Allan Scott    \n",
      "\n",
      "                            Wine Wine_Style      Grape_Blend  Cases_Made  \\\n",
      "22  Sauvignon Blanc Marlborough       White  Sauvignon Blanc     50000.0   \n",
      "\n",
      "    Cases_Imported    Geography      Address  \n",
      "22         16000.0  Marlborough  New Zealand  \n"
     ]
    }
   ],
   "source": [
    "# Explore White Wines, 2020\n",
    "cmbybc_table('White', '2020')"
   ]
  },
  {
   "cell_type": "markdown",
   "metadata": {},
   "source": [
    "## Vintage Wines were Cases Made and Cases Imported were Non-Zero"
   ]
  },
  {
   "cell_type": "code",
   "execution_count": 187,
   "metadata": {},
   "outputs": [
    {
     "data": {
      "text/plain": [
       "(92, 25)"
      ]
     },
     "execution_count": 187,
     "metadata": {},
     "output_type": "execute_result"
    }
   ],
   "source": [
    "# Remove Non-Vintage (NV) wines from df_Wine\n",
    "# Include only wines with a Cases_Made value\n",
    "\n",
    "df_Wine_VC = df_Wine[\n",
    "    (df_Wine.Vintage != 'NV') &\n",
    "    (df_Wine.Cases_Made != 0) &\n",
    "    (df_Wine.Cases_Imported != 0)\n",
    "]\n",
    "\n",
    "df_Wine_VC.shape"
   ]
  },
  {
   "cell_type": "code",
   "execution_count": 188,
   "metadata": {},
   "outputs": [
    {
     "name": "stderr",
     "output_type": "stream",
     "text": [
      "/home/elizabethwotawa/anaconda3/lib/python3.7/site-packages/ipykernel_launcher.py:3: SettingWithCopyWarning: \n",
      "A value is trying to be set on a copy of a slice from a DataFrame.\n",
      "Try using .loc[row_indexer,col_indexer] = value instead\n",
      "\n",
      "See the caveats in the documentation: http://pandas.pydata.org/pandas-docs/stable/indexing.html#indexing-view-versus-copy\n",
      "  This is separate from the ipykernel package so we can avoid doing imports until\n"
     ]
    }
   ],
   "source": [
    "# Calculate Cases Imported as percentage of Cases Made\n",
    "\n",
    "df_Wine_VC['Case_Ratio'] = df_Wine_VC['Cases_Imported'] / df_Wine_VC['Cases_Made']"
   ]
  },
  {
   "cell_type": "code",
   "execution_count": 189,
   "metadata": {},
   "outputs": [
    {
     "data": {
      "text/html": [
       "<div>\n",
       "<style scoped>\n",
       "    .dataframe tbody tr th:only-of-type {\n",
       "        vertical-align: middle;\n",
       "    }\n",
       "\n",
       "    .dataframe tbody tr th {\n",
       "        vertical-align: top;\n",
       "    }\n",
       "\n",
       "    .dataframe thead th {\n",
       "        text-align: right;\n",
       "    }\n",
       "</style>\n",
       "<table border=\"1\" class=\"dataframe\">\n",
       "  <thead>\n",
       "    <tr style=\"text-align: right;\">\n",
       "      <th></th>\n",
       "      <th>Review_Year</th>\n",
       "      <th>Rank</th>\n",
       "      <th>Vintage</th>\n",
       "      <th>Score</th>\n",
       "      <th>Price</th>\n",
       "      <th>Winemaker</th>\n",
       "      <th>Wine</th>\n",
       "      <th>Wine_Style</th>\n",
       "      <th>Grape_Blend</th>\n",
       "      <th>Blend_List</th>\n",
       "      <th>...</th>\n",
       "      <th>Best_Drink_Through</th>\n",
       "      <th>Review</th>\n",
       "      <th>Hierarchy</th>\n",
       "      <th>Address</th>\n",
       "      <th>loc</th>\n",
       "      <th>point</th>\n",
       "      <th>lat</th>\n",
       "      <th>long</th>\n",
       "      <th>altitude</th>\n",
       "      <th>Case_Ratio</th>\n",
       "    </tr>\n",
       "  </thead>\n",
       "  <tbody>\n",
       "    <tr>\n",
       "      <th>0</th>\n",
       "      <td>2020</td>\n",
       "      <td>1</td>\n",
       "      <td>2010</td>\n",
       "      <td>96.0</td>\n",
       "      <td>139</td>\n",
       "      <td>Bodegas Marqués de Murrieta</td>\n",
       "      <td>Rioja Castillo Ygay Gran Reserva Especial</td>\n",
       "      <td>Red</td>\n",
       "      <td>Blend</td>\n",
       "      <td>Tempranillo and Mazuelo.</td>\n",
       "      <td>...</td>\n",
       "      <td>2030.0</td>\n",
       "      <td>Maturing well, this round red is a lovely exam...</td>\n",
       "      <td>Hierarchy_00</td>\n",
       "      <td>Spain</td>\n",
       "      <td>España</td>\n",
       "      <td>(39.3262345, -4.8380649, 0.0)</td>\n",
       "      <td>39.326234</td>\n",
       "      <td>-4.838065</td>\n",
       "      <td>0.0</td>\n",
       "      <td>0.090667</td>\n",
       "    </tr>\n",
       "    <tr>\n",
       "      <th>2</th>\n",
       "      <td>2020</td>\n",
       "      <td>3</td>\n",
       "      <td>2015</td>\n",
       "      <td>97.0</td>\n",
       "      <td>90</td>\n",
       "      <td>San Filippo</td>\n",
       "      <td>Brunello di Montalcino Le Lucére</td>\n",
       "      <td>Red</td>\n",
       "      <td>Brunello di Montalcino</td>\n",
       "      <td>0</td>\n",
       "      <td>...</td>\n",
       "      <td>2043.0</td>\n",
       "      <td>Effusive aromas of black currant, blueberry, v...</td>\n",
       "      <td>Hierarchy_00</td>\n",
       "      <td>Italy</td>\n",
       "      <td>Italia</td>\n",
       "      <td>(42.6384261, 12.674297, 0.0)</td>\n",
       "      <td>42.638426</td>\n",
       "      <td>12.674297</td>\n",
       "      <td>0.0</td>\n",
       "      <td>0.500000</td>\n",
       "    </tr>\n",
       "    <tr>\n",
       "      <th>4</th>\n",
       "      <td>2020</td>\n",
       "      <td>5</td>\n",
       "      <td>2016</td>\n",
       "      <td>96.0</td>\n",
       "      <td>90</td>\n",
       "      <td>Domaine de la Vieille Julienne</td>\n",
       "      <td>Châteauneuf-du-Pape Les Trois Sources</td>\n",
       "      <td>Red</td>\n",
       "      <td>Châteauneuf-du-Pape</td>\n",
       "      <td>0</td>\n",
       "      <td>...</td>\n",
       "      <td>2040.0</td>\n",
       "      <td>A lush, ripe style, with açaí berry, blueberry...</td>\n",
       "      <td>Hierarchy_00</td>\n",
       "      <td>France</td>\n",
       "      <td>France</td>\n",
       "      <td>(46.603354, 1.8883335, 0.0)</td>\n",
       "      <td>46.603354</td>\n",
       "      <td>1.888333</td>\n",
       "      <td>0.0</td>\n",
       "      <td>0.250000</td>\n",
       "    </tr>\n",
       "    <tr>\n",
       "      <th>6</th>\n",
       "      <td>2020</td>\n",
       "      <td>7</td>\n",
       "      <td>2016</td>\n",
       "      <td>95.0</td>\n",
       "      <td>53</td>\n",
       "      <td>Massolino</td>\n",
       "      <td>Barolo</td>\n",
       "      <td>Red</td>\n",
       "      <td>Blend</td>\n",
       "      <td>Nebbiolo</td>\n",
       "      <td>...</td>\n",
       "      <td>2045.0</td>\n",
       "      <td>A stream of pure, juicy cherry fruit is at the...</td>\n",
       "      <td>Hierarchy_00</td>\n",
       "      <td>Italy</td>\n",
       "      <td>Italia</td>\n",
       "      <td>(42.6384261, 12.674297, 0.0)</td>\n",
       "      <td>42.638426</td>\n",
       "      <td>12.674297</td>\n",
       "      <td>0.0</td>\n",
       "      <td>0.362069</td>\n",
       "    </tr>\n",
       "    <tr>\n",
       "      <th>10</th>\n",
       "      <td>2020</td>\n",
       "      <td>11</td>\n",
       "      <td>2016</td>\n",
       "      <td>97.0</td>\n",
       "      <td>40</td>\n",
       "      <td>Castello di Volpaia</td>\n",
       "      <td>Chianti Classico Riserva</td>\n",
       "      <td>Red</td>\n",
       "      <td>Chianti</td>\n",
       "      <td>0</td>\n",
       "      <td>...</td>\n",
       "      <td>2040.0</td>\n",
       "      <td>Enticing aromas of black cherry, black currant...</td>\n",
       "      <td>Hierarchy_00</td>\n",
       "      <td>Italy</td>\n",
       "      <td>Italia</td>\n",
       "      <td>(42.6384261, 12.674297, 0.0)</td>\n",
       "      <td>42.638426</td>\n",
       "      <td>12.674297</td>\n",
       "      <td>0.0</td>\n",
       "      <td>0.550000</td>\n",
       "    </tr>\n",
       "  </tbody>\n",
       "</table>\n",
       "<p>5 rows × 26 columns</p>\n",
       "</div>"
      ],
      "text/plain": [
       "    Review_Year Rank Vintage  Score Price                        Winemaker  \\\n",
       "0          2020    1    2010   96.0   139     Bodegas Marqués de Murrieta    \n",
       "2          2020    3    2015   97.0    90                     San Filippo    \n",
       "4          2020    5    2016   96.0    90  Domaine de la Vieille Julienne    \n",
       "6          2020    7    2016   95.0    53                       Massolino    \n",
       "10         2020   11    2016   97.0    40             Castello di Volpaia    \n",
       "\n",
       "                                          Wine Wine_Style  \\\n",
       "0   Rioja Castillo Ygay Gran Reserva Especial         Red   \n",
       "2            Brunello di Montalcino Le Lucére         Red   \n",
       "4       Châteauneuf-du-Pape Les Trois Sources         Red   \n",
       "6                                      Barolo         Red   \n",
       "10                   Chianti Classico Riserva         Red   \n",
       "\n",
       "               Grape_Blend                  Blend_List  ...  \\\n",
       "0                    Blend  Tempranillo and Mazuelo.    ...   \n",
       "2   Brunello di Montalcino                           0  ...   \n",
       "4      Châteauneuf-du-Pape                           0  ...   \n",
       "6                    Blend                    Nebbiolo  ...   \n",
       "10                 Chianti                           0  ...   \n",
       "\n",
       "   Best_Drink_Through                                             Review  \\\n",
       "0              2030.0  Maturing well, this round red is a lovely exam...   \n",
       "2              2043.0  Effusive aromas of black currant, blueberry, v...   \n",
       "4              2040.0  A lush, ripe style, with açaí berry, blueberry...   \n",
       "6              2045.0  A stream of pure, juicy cherry fruit is at the...   \n",
       "10             2040.0  Enticing aromas of black cherry, black currant...   \n",
       "\n",
       "       Hierarchy Address     loc                          point        lat  \\\n",
       "0   Hierarchy_00   Spain  España  (39.3262345, -4.8380649, 0.0)  39.326234   \n",
       "2   Hierarchy_00   Italy  Italia   (42.6384261, 12.674297, 0.0)  42.638426   \n",
       "4   Hierarchy_00  France  France    (46.603354, 1.8883335, 0.0)  46.603354   \n",
       "6   Hierarchy_00   Italy  Italia   (42.6384261, 12.674297, 0.0)  42.638426   \n",
       "10  Hierarchy_00   Italy  Italia   (42.6384261, 12.674297, 0.0)  42.638426   \n",
       "\n",
       "         long altitude Case_Ratio  \n",
       "0   -4.838065      0.0   0.090667  \n",
       "2   12.674297      0.0   0.500000  \n",
       "4    1.888333      0.0   0.250000  \n",
       "6   12.674297      0.0   0.362069  \n",
       "10  12.674297      0.0   0.550000  \n",
       "\n",
       "[5 rows x 26 columns]"
      ]
     },
     "execution_count": 189,
     "metadata": {},
     "output_type": "execute_result"
    }
   ],
   "source": [
    "df_Wine_VC.head()"
   ]
  },
  {
   "cell_type": "code",
   "execution_count": 190,
   "metadata": {},
   "outputs": [
    {
     "data": {
      "text/html": [
       "<div>\n",
       "<style scoped>\n",
       "    .dataframe tbody tr th:only-of-type {\n",
       "        vertical-align: middle;\n",
       "    }\n",
       "\n",
       "    .dataframe tbody tr th {\n",
       "        vertical-align: top;\n",
       "    }\n",
       "\n",
       "    .dataframe thead th {\n",
       "        text-align: right;\n",
       "    }\n",
       "</style>\n",
       "<table border=\"1\" class=\"dataframe\">\n",
       "  <thead>\n",
       "    <tr style=\"text-align: right;\">\n",
       "      <th></th>\n",
       "      <th>Vintage</th>\n",
       "      <th>Case_Ratio</th>\n",
       "    </tr>\n",
       "  </thead>\n",
       "  <tbody>\n",
       "    <tr>\n",
       "      <th>0</th>\n",
       "      <td>2010</td>\n",
       "      <td>0.090667</td>\n",
       "    </tr>\n",
       "    <tr>\n",
       "      <th>1</th>\n",
       "      <td>2013</td>\n",
       "      <td>0.400000</td>\n",
       "    </tr>\n",
       "    <tr>\n",
       "      <th>2</th>\n",
       "      <td>2015</td>\n",
       "      <td>0.319173</td>\n",
       "    </tr>\n",
       "    <tr>\n",
       "      <th>3</th>\n",
       "      <td>2016</td>\n",
       "      <td>0.292710</td>\n",
       "    </tr>\n",
       "    <tr>\n",
       "      <th>4</th>\n",
       "      <td>2017</td>\n",
       "      <td>0.364699</td>\n",
       "    </tr>\n",
       "  </tbody>\n",
       "</table>\n",
       "</div>"
      ],
      "text/plain": [
       "  Vintage  Case_Ratio\n",
       "0    2010    0.090667\n",
       "1    2013    0.400000\n",
       "2    2015    0.319173\n",
       "3    2016    0.292710\n",
       "4    2017    0.364699"
      ]
     },
     "execution_count": 190,
     "metadata": {},
     "output_type": "execute_result"
    }
   ],
   "source": [
    "# Average by Vintage Year\n",
    "df_CRBY = pd.DataFrame({'Case_Ratio' : df_Wine_VC.groupby(['Vintage'])['Case_Ratio'].mean()}).reset_index()\n",
    "df_CRBY.head()"
   ]
  },
  {
   "cell_type": "code",
   "execution_count": 193,
   "metadata": {},
   "outputs": [
    {
     "data": {
      "text/plain": [
       "Text(0.5, 1, 'Average Cases Imported as Percentage of Cases Made')"
      ]
     },
     "execution_count": 193,
     "metadata": {},
     "output_type": "execute_result"
    },
    {
     "data": {
      "image/png": "[encoded data removed]",
      "text/plain": [
       "<Figure size 432x288 with 1 Axes>"
      ]
     },
     "metadata": {
      "needs_background": "light"
     },
     "output_type": "display_data"
    }
   ],
   "source": [
    "# Graph Case Ratio by Vintage Year\n",
    "\n",
    "sns.lineplot(data = df_CRBY, x = 'Vintage', y = 'Case_Ratio')\n",
    "plt.suptitle('Average Cases Imported as Percentage of Cases Made', y = 1)"
   ]
  },
  {
   "cell_type": "code",
   "execution_count": null,
   "metadata": {},
   "outputs": [],
   "source": []
  }
 ],
 "metadata": {
  "kernelspec": {
   "display_name": "Python 3",
   "language": "python",
   "name": "python3"
  },
  "language_info": {
   "codemirror_mode": {
    "name": "ipython",
    "version": 3
   },
   "file_extension": ".py",
   "mimetype": "text/x-python",
   "name": "python",
   "nbconvert_exporter": "python",
   "pygments_lexer": "ipython3",
   "version": "3.7.3"
  }
 },
 "nbformat": 4,
 "nbformat_minor": 2
}
